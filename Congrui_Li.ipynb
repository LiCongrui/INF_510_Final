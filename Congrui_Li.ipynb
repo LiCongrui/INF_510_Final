{
 "cells": [
  {
   "cell_type": "markdown",
   "metadata": {},
   "source": [
    "### INF 510 Fall 2019 Final Project Submission"
   ]
  },
  {
   "cell_type": "markdown",
   "metadata": {},
   "source": [
    "1.\t**The names of team member(s)**:\n",
    "\n",
    "    Congrui Li and Ling Li"
   ]
  },
  {
   "cell_type": "markdown",
   "metadata": {},
   "source": [
    "2.\t**How to run your code (what command-line switches they are, what happens when you invoke the code, etc.)**\n",
    "\n",
    "    Please run -source=test (or remote) first to acquire data.\n",
    "    The data will be cleaned and stored into mysql(by sqlite).\n",
    "    Run -source=local, data will be read from mysql db and shown.\n"
   ]
  },
  {
   "cell_type": "markdown",
   "metadata": {},
   "source": [
    "3.\t**Any major “gotchas” to the code (i.e. things that don’t work, go slowly, could be improved, etc.)**\n",
    "    \n",
    "    Some data are outdated and incompleted, so that we have trouble on cleaning it and conbining them. It is unable to distinguish between fresh graduates and current employees changing jobs, so the part we improved was with better data."
   ]
  },
  {
   "cell_type": "markdown",
   "metadata": {},
   "source": [
    "4.  **Anything else you feel is relevant to the grading of your project your project.**\n",
    "\n",
    "    #For some reason, if you try to plot the scatter plot twice, it doesn't work.  You'll have to restart the notebook over.\n",
    "    "
   ]
  },
  {
   "cell_type": "markdown",
   "metadata": {},
   "source": [
    "5. **What did you set out to study?  (i.e. what was the point of your project?  This should be close to your Milestone 1 assignment, but if you switched gears or changed things, note it here.)**\n",
    "\n",
    "   We did an analysis of the position, what kind of company to look for, what work to do is a trend, etc."
   ]
  },
  {
   "cell_type": "markdown",
   "metadata": {},
   "source": [
    "6. **What did you Discover/what were your conclusions (i.e. what were your findings?  Were your original assumptions confirmed, etc.?)**\n",
    "\n",
    "    Most recruited companie: **Google**. Highest paid companies: **Airbnb,Lyft,Facebook**. Lowest paid companies: **Uber, Amazon**. \n",
    "    \n",
    "    So why are Uber and Amazon's wages so low?\n",
    "    \n",
    "    **1. Low starting salary but high possibility of rising salary**\n",
    "    \n",
    "    **2. Both Uber and Amazon value operations, and both deal with users offline.There are more operations, data analysts will do more and more complicated, and may have low technical requirements.**\n",
    "    \n",
    "    Just looking at the median salary for data analysis positions, **New York has the highest, followed by the Bay Area, and Seattle has slightly lower.** However, **as Seattle's Washington state does not collect personal income tax**, although Seattle's pre-tax income is slightly lower, the cash received after tax in the first year is slightly **higher than the Bay Area and New York**."
   ]
  },
  {
   "cell_type": "markdown",
   "metadata": {},
   "source": [
    "7. **What difficulties did you have in completing the project?**  \n",
    "\n",
    "    When we deal with the processing of the **position** table, the **position descriptions** are very long and there are some symbols between it, which caused some problems when processing. \n",
    "    \n",
    "    Moreover, When we use **python to save to mysql**, it is easy to **splice errors** due to quotation marks, so it needs preprocessing, which causes trouble when doing it."
   ]
  },
  {
   "cell_type": "markdown",
   "metadata": {},
   "source": [
    "8. **What skills did you wish you had while you were doing the project?**\n",
    "\n",
    "    We learn how to use API to get information from a website, and data processing technology has also been improved. Module programming has been improved as well.\n"
   ]
  },
  {
   "cell_type": "markdown",
   "metadata": {},
   "source": [
    "9. **What would you do “next” to expand or augment the project?**\n",
    "\n",
    "    *If you had to continue this project, what would you add to it?  If you had the skills you mentioned in question 8, what could you do to enhance things?*"
   ]
  },
  {
   "cell_type": "code",
   "execution_count": 14,
   "metadata": {},
   "outputs": [
    {
     "data": {
      "text/plain": [
       "'hello'"
      ]
     },
     "execution_count": 14,
     "metadata": {},
     "output_type": "execute_result"
    }
   ],
   "source": [
    "from src.company_analyze import run_ana\n",
    "\n",
    "\n"
   ]
  },
  {
   "cell_type": "code",
   "execution_count": null,
   "metadata": {},
   "outputs": [],
   "source": []
  }
 ],
 "metadata": {
  "kernelspec": {
   "display_name": "Python 3",
   "language": "python",
   "name": "python3"
  },
  "language_info": {
   "codemirror_mode": {
    "name": "ipython",
    "version": 3
   },
   "file_extension": ".py",
   "mimetype": "text/x-python",
   "name": "python",
   "nbconvert_exporter": "python",
   "pygments_lexer": "ipython3",
   "version": "3.7.3"
  }
 },
 "nbformat": 4,
 "nbformat_minor": 2
}
